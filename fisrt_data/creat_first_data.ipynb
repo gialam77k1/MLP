{
 "cells": [
  {
   "cell_type": "code",
   "execution_count": 1,
   "id": "1d82f2d9",
   "metadata": {},
   "outputs": [],
   "source": [
    "import pandas as pd"
   ]
  },
  {
   "cell_type": "code",
   "execution_count": null,
   "id": "7b5b77d0",
   "metadata": {},
   "outputs": [],
   "source": [
    "df = pd.read_csv('vnexpress_health_articles.csv')"
   ]
  },
  {
   "cell_type": "markdown",
   "id": "268630e5",
   "metadata": {},
   "source": [
    "Đầu tiên, ta có file dữ liệu gốc có cấu trúc gồm 7 trường : url, title, keywords, description, content, len, author\n",
    "Có thể thấy dự án : \"Xác định từ khóa tiếng Việt bằng phương pháp học máy\" chỉ cần 2 trường chính là : \"keywords, content\" nên ta sẽ tiên hành lưu 2 trường đó vào file csv mới để làm file dữ liệu gốc cho dự án này ."
   ]
  },
  {
   "cell_type": "code",
   "execution_count": 3,
   "id": "25fd488b",
   "metadata": {},
   "outputs": [
    {
     "data": {
      "text/html": [
       "<div>\n",
       "<style scoped>\n",
       "    .dataframe tbody tr th:only-of-type {\n",
       "        vertical-align: middle;\n",
       "    }\n",
       "\n",
       "    .dataframe tbody tr th {\n",
       "        vertical-align: top;\n",
       "    }\n",
       "\n",
       "    .dataframe thead th {\n",
       "        text-align: right;\n",
       "    }\n",
       "</style>\n",
       "<table border=\"1\" class=\"dataframe\">\n",
       "  <thead>\n",
       "    <tr style=\"text-align: right;\">\n",
       "      <th></th>\n",
       "      <th>url</th>\n",
       "      <th>title</th>\n",
       "      <th>keywords</th>\n",
       "      <th>description</th>\n",
       "      <th>content</th>\n",
       "      <th>len</th>\n",
       "      <th>author</th>\n",
       "    </tr>\n",
       "  </thead>\n",
       "  <tbody>\n",
       "    <tr>\n",
       "      <th>0</th>\n",
       "      <td>https://vnexpress.net/suc-khoe/ngung-lay-mau-x...</td>\n",
       "      <td>Ngừng lấy mẫu xét nghiệm nCoV tại Nội Bài</td>\n",
       "      <td>mẫu, xét nghiệm, sân bay, Nội Bài, ngừng lấy m...</td>\n",
       "      <td>Người nhập cảnh qua Nội Bài sẽ không khai báo ...</td>\n",
       "      <td>Thứ trưởng Bộ Y tế Nguyễn Thanh Long tối 18/3 ...</td>\n",
       "      <td>612</td>\n",
       "      <td>Thúy Quỳnh - Lê Phương</td>\n",
       "    </tr>\n",
       "    <tr>\n",
       "      <th>1</th>\n",
       "      <td>https://vnexpress.net/suc-khoe/so-ca-nghi-nhie...</td>\n",
       "      <td>Số ca nghi nhiễm giảm nhẹ</td>\n",
       "      <td>cách ly y tế, giám sát, nghi nhiễm, xét nghiệm</td>\n",
       "      <td>Tính đến 8h ngày 19/3, cả nước có 122 người ng...</td>\n",
       "      <td>Con số nghi nhiễm giảm 4 trường hợp so với hôm...</td>\n",
       "      <td>809</td>\n",
       "      <td>Thùy An</td>\n",
       "    </tr>\n",
       "    <tr>\n",
       "      <th>2</th>\n",
       "      <td>https://vnexpress.net/suc-khoe/thuoc-cum-nhat-...</td>\n",
       "      <td>Thuốc cúm Nhật hiệu quả rõ rệt trị Covid-19</td>\n",
       "      <td>thuốc điều trị nCoV, thuốc cúm Avigan, thuốc t...</td>\n",
       "      <td>Các nhà khoa học cho biết thuốc chống cúm Avig...</td>\n",
       "      <td>Ông Zhang Xinmin, Giám đốc Trung tâm phát triể...</td>\n",
       "      <td>626</td>\n",
       "      <td>Lê Cầm</td>\n",
       "    </tr>\n",
       "    <tr>\n",
       "      <th>3</th>\n",
       "      <td>https://vnexpress.net/suc-khoe/loai-thuoc-tiem...</td>\n",
       "      <td>Loại thuốc tiềm năng điều trị Covid-19</td>\n",
       "      <td>viêm phổi Trung Quốc, Covid-19, nCoV, virus co...</td>\n",
       "      <td>Các nhà nghiên cứu toàn cầu đang nỗ lực thiết ...</td>\n",
       "      <td>Nếu nghiên cứu thành công, đây sẽ là một kỳ tí...</td>\n",
       "      <td>1016</td>\n",
       "      <td>Linh Phan</td>\n",
       "    </tr>\n",
       "    <tr>\n",
       "      <th>4</th>\n",
       "      <td>https://vnexpress.net/suc-khoe/bac-si-chau-au-...</td>\n",
       "      <td>Bác sĩ châu Âu đang lặp lại sai lầm Vũ Hán</td>\n",
       "      <td>viêm phổi Trung Quốc, viêm phổi Vũ Hán, Covid-...</td>\n",
       "      <td>Thiếu đồ bảo hộ khiến nhân viên y tế bị lây nh...</td>\n",
       "      <td>Hồi tháng giêng khi dịch mới bùng phát, hàng n...</td>\n",
       "      <td>962</td>\n",
       "      <td>Thục Linh</td>\n",
       "    </tr>\n",
       "  </tbody>\n",
       "</table>\n",
       "</div>"
      ],
      "text/plain": [
       "                                                 url  \\\n",
       "0  https://vnexpress.net/suc-khoe/ngung-lay-mau-x...   \n",
       "1  https://vnexpress.net/suc-khoe/so-ca-nghi-nhie...   \n",
       "2  https://vnexpress.net/suc-khoe/thuoc-cum-nhat-...   \n",
       "3  https://vnexpress.net/suc-khoe/loai-thuoc-tiem...   \n",
       "4  https://vnexpress.net/suc-khoe/bac-si-chau-au-...   \n",
       "\n",
       "                                         title  \\\n",
       "0    Ngừng lấy mẫu xét nghiệm nCoV tại Nội Bài   \n",
       "1                    Số ca nghi nhiễm giảm nhẹ   \n",
       "2  Thuốc cúm Nhật hiệu quả rõ rệt trị Covid-19   \n",
       "3       Loại thuốc tiềm năng điều trị Covid-19   \n",
       "4   Bác sĩ châu Âu đang lặp lại sai lầm Vũ Hán   \n",
       "\n",
       "                                            keywords  \\\n",
       "0  mẫu, xét nghiệm, sân bay, Nội Bài, ngừng lấy m...   \n",
       "1     cách ly y tế, giám sát, nghi nhiễm, xét nghiệm   \n",
       "2  thuốc điều trị nCoV, thuốc cúm Avigan, thuốc t...   \n",
       "3  viêm phổi Trung Quốc, Covid-19, nCoV, virus co...   \n",
       "4  viêm phổi Trung Quốc, viêm phổi Vũ Hán, Covid-...   \n",
       "\n",
       "                                         description  \\\n",
       "0  Người nhập cảnh qua Nội Bài sẽ không khai báo ...   \n",
       "1  Tính đến 8h ngày 19/3, cả nước có 122 người ng...   \n",
       "2  Các nhà khoa học cho biết thuốc chống cúm Avig...   \n",
       "3  Các nhà nghiên cứu toàn cầu đang nỗ lực thiết ...   \n",
       "4  Thiếu đồ bảo hộ khiến nhân viên y tế bị lây nh...   \n",
       "\n",
       "                                             content   len  \\\n",
       "0  Thứ trưởng Bộ Y tế Nguyễn Thanh Long tối 18/3 ...   612   \n",
       "1  Con số nghi nhiễm giảm 4 trường hợp so với hôm...   809   \n",
       "2  Ông Zhang Xinmin, Giám đốc Trung tâm phát triể...   626   \n",
       "3  Nếu nghiên cứu thành công, đây sẽ là một kỳ tí...  1016   \n",
       "4  Hồi tháng giêng khi dịch mới bùng phát, hàng n...   962   \n",
       "\n",
       "                   author  \n",
       "0  Thúy Quỳnh - Lê Phương  \n",
       "1                 Thùy An  \n",
       "2                  Lê Cầm  \n",
       "3               Linh Phan  \n",
       "4               Thục Linh  "
      ]
     },
     "execution_count": 3,
     "metadata": {},
     "output_type": "execute_result"
    }
   ],
   "source": [
    "df.head()"
   ]
  },
  {
   "cell_type": "markdown",
   "id": "2ed01a9e",
   "metadata": {},
   "source": [
    "Xóa bỏ các hàng dữ liệu chứa None"
   ]
  },
  {
   "cell_type": "code",
   "execution_count": 4,
   "id": "703c8ae1",
   "metadata": {},
   "outputs": [],
   "source": [
    "df1 = df[['keywords','content']]\n",
    "df1 = df1.dropna()"
   ]
  },
  {
   "cell_type": "code",
   "execution_count": 5,
   "id": "8d1df824",
   "metadata": {},
   "outputs": [
    {
     "data": {
      "text/plain": [
       "'cách ly y tế, giám sát, nghi nhiễm, xét nghiệm'"
      ]
     },
     "execution_count": 5,
     "metadata": {},
     "output_type": "execute_result"
    }
   ],
   "source": [
    "df1.head()\n",
    "df1['keywords'][1]"
   ]
  },
  {
   "cell_type": "code",
   "execution_count": 6,
   "id": "6f2e20b4",
   "metadata": {},
   "outputs": [],
   "source": [
    "df1.to_csv(\"..\\data\\dataset_ml.csv\", index=False, encoding='utf-8')"
   ]
  },
  {
   "cell_type": "code",
   "execution_count": 7,
   "id": "56ec7871",
   "metadata": {},
   "outputs": [
    {
     "data": {
      "text/plain": [
       "518.0846"
      ]
     },
     "execution_count": 7,
     "metadata": {},
     "output_type": "execute_result"
    }
   ],
   "source": [
    "df['len'].mean()"
   ]
  },
  {
   "cell_type": "code",
   "execution_count": 8,
   "id": "d7083bf9",
   "metadata": {},
   "outputs": [
    {
     "data": {
      "text/plain": [
       "5000"
      ]
     },
     "execution_count": 8,
     "metadata": {},
     "output_type": "execute_result"
    }
   ],
   "source": [
    "len(df1)"
   ]
  },
  {
   "cell_type": "markdown",
   "id": "8272a4d6",
   "metadata": {},
   "source": [
    "Test xem file dữ liệu vừa lưu có đúng không "
   ]
  },
  {
   "cell_type": "code",
   "execution_count": 9,
   "id": "03dde3b6",
   "metadata": {},
   "outputs": [],
   "source": [
    "import pandas as pd"
   ]
  },
  {
   "cell_type": "code",
   "execution_count": 10,
   "id": "2e1da720",
   "metadata": {},
   "outputs": [],
   "source": [
    "df2 = pd.read_csv('..\\data\\dataset_ml.csv', encoding='utf-8')"
   ]
  },
  {
   "cell_type": "code",
   "execution_count": 11,
   "id": "84e58c9a",
   "metadata": {},
   "outputs": [
    {
     "data": {
      "text/html": [
       "<div>\n",
       "<style scoped>\n",
       "    .dataframe tbody tr th:only-of-type {\n",
       "        vertical-align: middle;\n",
       "    }\n",
       "\n",
       "    .dataframe tbody tr th {\n",
       "        vertical-align: top;\n",
       "    }\n",
       "\n",
       "    .dataframe thead th {\n",
       "        text-align: right;\n",
       "    }\n",
       "</style>\n",
       "<table border=\"1\" class=\"dataframe\">\n",
       "  <thead>\n",
       "    <tr style=\"text-align: right;\">\n",
       "      <th></th>\n",
       "      <th>keywords</th>\n",
       "      <th>content</th>\n",
       "    </tr>\n",
       "  </thead>\n",
       "  <tbody>\n",
       "    <tr>\n",
       "      <th>0</th>\n",
       "      <td>mẫu, xét nghiệm, sân bay, Nội Bài, ngừng lấy m...</td>\n",
       "      <td>Thứ trưởng Bộ Y tế Nguyễn Thanh Long tối 18/3 ...</td>\n",
       "    </tr>\n",
       "    <tr>\n",
       "      <th>1</th>\n",
       "      <td>cách ly y tế, giám sát, nghi nhiễm, xét nghiệm</td>\n",
       "      <td>Con số nghi nhiễm giảm 4 trường hợp so với hôm...</td>\n",
       "    </tr>\n",
       "    <tr>\n",
       "      <th>2</th>\n",
       "      <td>thuốc điều trị nCoV, thuốc cúm Avigan, thuốc t...</td>\n",
       "      <td>Ông Zhang Xinmin, Giám đốc Trung tâm phát triể...</td>\n",
       "    </tr>\n",
       "    <tr>\n",
       "      <th>3</th>\n",
       "      <td>viêm phổi Trung Quốc, Covid-19, nCoV, virus co...</td>\n",
       "      <td>Nếu nghiên cứu thành công, đây sẽ là một kỳ tí...</td>\n",
       "    </tr>\n",
       "    <tr>\n",
       "      <th>4</th>\n",
       "      <td>viêm phổi Trung Quốc, viêm phổi Vũ Hán, Covid-...</td>\n",
       "      <td>Hồi tháng giêng khi dịch mới bùng phát, hàng n...</td>\n",
       "    </tr>\n",
       "  </tbody>\n",
       "</table>\n",
       "</div>"
      ],
      "text/plain": [
       "                                            keywords  \\\n",
       "0  mẫu, xét nghiệm, sân bay, Nội Bài, ngừng lấy m...   \n",
       "1     cách ly y tế, giám sát, nghi nhiễm, xét nghiệm   \n",
       "2  thuốc điều trị nCoV, thuốc cúm Avigan, thuốc t...   \n",
       "3  viêm phổi Trung Quốc, Covid-19, nCoV, virus co...   \n",
       "4  viêm phổi Trung Quốc, viêm phổi Vũ Hán, Covid-...   \n",
       "\n",
       "                                             content  \n",
       "0  Thứ trưởng Bộ Y tế Nguyễn Thanh Long tối 18/3 ...  \n",
       "1  Con số nghi nhiễm giảm 4 trường hợp so với hôm...  \n",
       "2  Ông Zhang Xinmin, Giám đốc Trung tâm phát triể...  \n",
       "3  Nếu nghiên cứu thành công, đây sẽ là một kỳ tí...  \n",
       "4  Hồi tháng giêng khi dịch mới bùng phát, hàng n...  "
      ]
     },
     "execution_count": 11,
     "metadata": {},
     "output_type": "execute_result"
    }
   ],
   "source": [
    "df2.head()"
   ]
  },
  {
   "cell_type": "code",
   "execution_count": 12,
   "id": "dac98a8e",
   "metadata": {},
   "outputs": [
    {
     "data": {
      "text/plain": [
       "'Con số nghi nhiễm giảm 4 trường hợp so với hôm qua, vẫn ở mức cao. Trong số này, 95 người mới cách ly trong ngày, 22 trường hợp cũ tiếp tục theo dõi. Số liệu do Trung tâm Đáp ứng Khẩn cấp Sự kiện Y tế Công cộng Việt Nam tổng hợp từ tất cả tỉnh thành.\\nHôm qua, gần 1.000 hành khách từ châu Âu và 5.700 người từ các nước ASEAN trên 78 chuyến bay về đến Việt Nam, số người cần theo dõi sức khỏe tăng đột biến.\\xa0\\nCả nước có hơn 42.000 người tiếp xúc gần và nhập cảnh từ vùng dịch đang được theo dõi sức khỏe, tăng gần 12.000 trường hợp trong một ngày. Trong đó hơn 34.000 người cách ly tại nhà, nơi lưu trú. Tuy nhiên, đây chỉ là người có yếu tố dịch tễ về bệnh chứ không có các triệu chứng như ho, sốt, khó thở, chưa xác định mắc bệnh.\\nNgành y tế yêu cầu những người trên 14 chuyến bay có nCoV liên hệ ngay Trung tâm Kiểm soát bệnh tật địa phương để được hướng dẫn theo dõi sức khỏe, giảm nguy cơ lây nhiễm ra cộng đồng.\\nTừ 0h ngày 18/3, Việt Nam tạm dừng cấp thị thực cho người nước ngoài nhập cảnh trong thời gian 30 ngày. Quyết định này không áp dụng đối với người nhập cảnh vì mục đích ngoại giao, công vụ. Tất cả hành khách nhập cảnh từ Mỹ, các nước châu Âu và ASEAN đều phải cách ly tập trung. Những người không thuộc diện cách ly tập trung sẽ cách ly tại gia đình, doanh nghiệp, cơ sở lưu trú, có sự giám sát của nhà chức trách.\\nBan chỉ đạo quốc gia phòng chống Covid-19 khẳng định\\xa0Việt Nam \"tăng cường tốc độ ứng phó\", do tình hình Covid-19 trên thế giới đang xấu đi rất nhanh.\\n\\nHà Nội đến tối 18/3\\xa0ghi nhận 20 ca Covid-19. Thành phố lập 65 đội phản ứng nhanh, trong đó có 60 đội của 30 trung tâm y tế quận, huyện và 5 đội của thành phố đến sân bay lấy mẫu bệnh phẩm hành khách. Bệnh viện Đa khoa huyện Mê Linh (cũ) đang được cải tạo thành nơi cách ly tập trung để phòng, chống Covid-19; dự phòng trong trường hợp cơ sở điều trị của thành phố Hà Nội quá tải.\\nĐại diện lãnh đạo Hà Nội cho biết cao điểm của nguy cơ lây nhiễm bệnh trên địa bàn thành phố trong 3 đến 4 ngày tới và có thể kéo dài đến ngày 3/4. Người dân nên hạn chế mua bán ở nơi đông người; hạn chế các tuyến xe buýt, người dân nếu cần đi lại nên sử dụng phương tiện cá nhân.\\nTP HCM ghi nhận 12 ca dương tính, trong đó 3 người đã khỏi bệnh từ tháng trước. Bệnh nhân 32 xét nghiệm âm tính lần một.\\xa0Hơn 800 trường hợp đang cách ly tập trung tại huyện Củ Chi, Nhà Bè, quận 7, Quân khu 7. Thành phố sẵn sàng 9 cơ sở lưu trú trưng dụng 641 phòng và 200 giường làm nơi cách ly người có khả năng nhiễm nCoV.\\nĐà Nẵng tiếp tục giám sát tại cộng đồng 102 người. 141 trường hợp tiếp xúc gần được cách ly tại các trung tâm y tế quận huyện. Ngoài ra còn có 374 người cách ly tại nhà, tất cả sức khỏe bình thường. Bốn trường hợp dương tính đang được theo dõi tại bệnh viện tỉnh, không còn sốt, ho, sức khỏe ổn định.\\nQuảng Ninh có 82 người đang được cách ly tại các cơ sở y tế; 747 người đang được cách ly tại nhà và nơi cư trú. Thành phố lập 8 chốt phòng chống Covid-19 ở cửa ngõ nối Quảng Ninh với Hải Phòng, Hải Dương, Lạng Sơn và Bắc Giang, phòng ngừa lây nhiễm dịch bệnh.\\nHơn 600 tiếp viên hàng không đang được cách ly tập trung tại các cơ sở ở Hà Nội và TP HCM do tiếp xúc với \"bệnh nhân 46\" và \"bệnh nhân 59\"; 76 tiếp viên khác dạng F3 tự cách ly tại nhà.\\nĐến nay, cả nước ghi nhận 76 bệnh nhân Covid-19; trong đó 16 ca khỏi từ tháng trước, 60 bệnh nhân đang cách ly điều trị. Các ca bệnh xâm nhập chủ yếu từ châu Âu và Mỹ, sau đó lây lan cộng đồng. 15 tỉnh, thành xuất hiện bệnh nhân, trong đó Hải Dương và Bắc Ninh lần đầu ghi nhận.\\nSức khỏe hầu hết bệnh nhân ổn định, tuy nhiên có hai ca nặng đều trên 60 tuổi và có bệnh nền. Có 5 bệnh nhân đã cho kết quả xét nghiệm âm tính ít nhất một lần.'"
      ]
     },
     "execution_count": 12,
     "metadata": {},
     "output_type": "execute_result"
    }
   ],
   "source": [
    "df2['content'][1]"
   ]
  },
  {
   "cell_type": "code",
   "execution_count": null,
   "id": "4edd72ca",
   "metadata": {},
   "outputs": [],
   "source": []
  }
 ],
 "metadata": {
  "kernelspec": {
   "display_name": "Python 3",
   "language": "python",
   "name": "python3"
  },
  "language_info": {
   "codemirror_mode": {
    "name": "ipython",
    "version": 3
   },
   "file_extension": ".py",
   "mimetype": "text/x-python",
   "name": "python",
   "nbconvert_exporter": "python",
   "pygments_lexer": "ipython3",
   "version": "3.10.11"
  }
 },
 "nbformat": 4,
 "nbformat_minor": 5
}
